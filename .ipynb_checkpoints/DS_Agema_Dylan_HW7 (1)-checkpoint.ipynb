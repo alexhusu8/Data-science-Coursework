{
 "cells": [
  {
   "cell_type": "markdown",
   "metadata": {
    "id": "tAo6tClM8c6e"
   },
   "source": [
    "**Problem #1**"
   ]
  },
  {
   "cell_type": "markdown",
   "metadata": {
    "id": "CswOiITy8gfU"
   },
   "source": [
    "**(a)**"
   ]
  },
  {
   "cell_type": "code",
   "execution_count": 1,
   "metadata": {
    "id": "N213h7wc_P0a"
   },
   "outputs": [],
   "source": [
    "import math"
   ]
  },
  {
   "cell_type": "code",
   "execution_count": 3,
   "metadata": {
    "colab": {
     "base_uri": "https://localhost:8080/"
    },
    "id": "mF3G4ScV8V-9",
    "outputId": "6877dbb0-c138-4f1a-b47e-ef710c647dd4"
   },
   "outputs": [
    {
     "name": "stdout",
     "output_type": "stream",
     "text": [
      "0.422\n"
     ]
    }
   ],
   "source": [
    "# true error rate = 0.25 \n",
    "# Predicting the class labels correctly is a binomial random variable with N = 3, p = 0.75, and k = 3\n",
    "# So the probability for the first is 0.75, the second 0.75, and the third 0.75\n",
    "# Using the formula: 3 choose 3 * (0.75)^3 * 1 = 1 * (0.75)^3 \n",
    "# This is usually done by multiplying the probability of success for the given number of trails:\n",
    "answer = (0.75)**3\n",
    "print(round(answer,3))"
   ]
  },
  {
   "cell_type": "markdown",
   "metadata": {
    "id": "Z401sNDc-Hvo"
   },
   "source": [
    "**(b)**"
   ]
  },
  {
   "cell_type": "code",
   "execution_count": 41,
   "metadata": {
    "colab": {
     "base_uri": "https://localhost:8080/"
    },
    "id": "nM_7LFRj-JB7",
    "outputId": "f46cfd68-393d-4b11-e39e-fed326f15ac7"
   },
   "outputs": [
    {
     "name": "stdout",
     "output_type": "stream",
     "text": [
      "0.2503\n"
     ]
    }
   ],
   "source": [
    "# We still have a binomial random variable \n",
    "# This time N = 10, p = 0.75, and k = 7\n",
    "# So: 10 choose 7 * (0.75)^7 * (0.25)^3\n",
    "# 10 choose 7 accounts for the number of combinations in which this could happen \n",
    "answer = (math.factorial(10)/(math.factorial(7)*math.factorial(3))) * (0.75)**7 * (0.25)**3\n",
    "print(round(answer,4))"
   ]
  },
  {
   "cell_type": "markdown",
   "metadata": {
    "id": "oUbyXKS__yuO"
   },
   "source": [
    "**Problem #2**"
   ]
  },
  {
   "cell_type": "markdown",
   "metadata": {
    "id": "fSyhjYqR_0fy"
   },
   "source": [
    "**(a)**"
   ]
  },
  {
   "cell_type": "code",
   "execution_count": 2,
   "metadata": {
    "id": "FTpS6XfYACR-"
   },
   "outputs": [],
   "source": [
    "from sklearn.datasets import load_wine as wine\n",
    "import pandas as pd\n",
    "import numpy as np \n",
    "import random\n",
    "from scipy.stats import binom\n",
    "from scipy.special import comb"
   ]
  },
  {
   "cell_type": "code",
   "execution_count": 40,
   "metadata": {
    "colab": {
     "base_uri": "https://localhost:8080/"
    },
    "id": "2E8viNew_2Rf",
    "outputId": "f9ba734e-41f6-4940-e5f0-23a49c398965"
   },
   "outputs": [
    {
     "name": "stdout",
     "output_type": "stream",
     "text": [
      "Calculated Probability = 0.2696629213483146\n",
      "Expected number of class 2 observations = 11\n",
      "Estimated Probability = 0.225\n"
     ]
    }
   ],
   "source": [
    "data = wine()\n",
    "target = data.target\n",
    "\n",
    "# Determine population probability of class 2 occurring\n",
    "p = len(target[target == 2])/len(target)\n",
    "print(\"Calculated Probability = {}\".format(p))\n",
    "\n",
    "# The expected value of the number of class 2 observations in a sample of 40 \n",
    "# observations should theoretically be \n",
    "\n",
    "prob2_40 = round(p*40)\n",
    "print(\"Expected number of class 2 observations = {}\".format(prob2_40))\n",
    "\n",
    "# Check this experimentally: \n",
    "# Shuffle the target class, take 40 observations, and count the number of class 2\n",
    "indices = list(range(len(target)))\n",
    "random.shuffle(indices)\n",
    "\n",
    "target40 = target[indices[:40]]\n",
    "prob2_40calc = len(target40[target40 == 2])\n",
    "print(\"Estimated Probability = {}\".format(prob2_40calc/len(target40)))\n",
    "\n",
    "# Through selecting a random sample of 40 observations, it is calculated that\n",
    "# the expected value of class 2 observations is 12, which is close to the \n",
    "# theoretical value of 11. "
   ]
  },
  {
   "cell_type": "markdown",
   "metadata": {
    "id": "Xwee0ysAJi-X"
   },
   "source": [
    "**(b)**"
   ]
  },
  {
   "cell_type": "code",
   "execution_count": 103,
   "metadata": {
    "colab": {
     "base_uri": "https://localhost:8080/"
    },
    "id": "mIanItfiJj8B",
    "outputId": "f7591fc9-9e1a-454f-de6a-4d56e4540526"
   },
   "outputs": [
    {
     "name": "stdout",
     "output_type": "stream",
     "text": [
      "Upper Limit: 13\n",
      "Lower Limit: 9\n",
      "Probability of having 9, 10, 11, 12, or 13 observations belonging to class 2 in a sample of 40 = 0.624\n"
     ]
    }
   ],
   "source": [
    "upper_p = p +.05\n",
    "lower_p = p -.05\n",
    "\n",
    "print(\"Upper Limit: {}\".format(round(upper_p*40)))\n",
    "print(\"Lower Limit: {}\".format(round(lower_p*40)))\n",
    "\n",
    "# Lower bound: 9; Upper bound: 13 \n",
    "\n",
    "# Here, we calculate the binomial probability with N = 40, p = p, and k = 9,10,11,12,13\n",
    "\n",
    "n = 40\n",
    "# defining the list of k values\n",
    "values = [9,10,11,12,13]\n",
    "# list of pmf values\n",
    "dist = [binom.pmf(k, n, p) for k in values ]\n",
    "# summing probabilities \n",
    "prob = 0 \n",
    "for i in range(len(values)):\n",
    "  prob1 = dist[i]\n",
    "  prob += round(prob1,3)\n",
    "print(\"Probability of having 9, 10, 11, 12, or 13 observations belonging to class 2 in a sample of 40 = {}\".format(prob))"
   ]
  },
  {
   "cell_type": "markdown",
   "metadata": {
    "id": "-V9yJCpZR-NT"
   },
   "source": [
    "**(c)**"
   ]
  },
  {
   "cell_type": "code",
   "execution_count": 109,
   "metadata": {
    "colab": {
     "base_uri": "https://localhost:8080/"
    },
    "id": "Y_bWDpe0R91F",
    "outputId": "2072c645-ab3f-4267-f9f4-cff572c8b4e6"
   },
   "outputs": [
    {
     "name": "stdout",
     "output_type": "stream",
     "text": [
      "0.623\n"
     ]
    }
   ],
   "source": [
    "# Calculate n based on confidence interval \n",
    "# Accuracy to 3 digits requires an error of at least half of .001 = .0005 = 1/2000\n",
    "# This corresponds with a number of repititions equal to 4000001, as calculated in HW6 Problem 4(c)\n",
    "\n",
    "n = 4000001\n",
    "error = 1/np.sqrt(float(n))\n",
    "count = 0 \n",
    "for i in range(n):\n",
    "  indices = list(range(len(target)))\n",
    "  indices = random.choices(indices, k = 40)\n",
    "\n",
    "  target40 = target[indices[:40]]\n",
    "  numofclass2 = len(target40[target40 == 2])\n",
    "  if numofclass2 in values:\n",
    "    count += 1 \n",
    "estimate = round(count/n, 3)  \n",
    "print(estimate)"
   ]
  },
  {
   "cell_type": "markdown",
   "metadata": {
    "id": "mBV0glhdYjxK"
   },
   "source": [
    "**(d) Don't include in solutions**"
   ]
  },
  {
   "cell_type": "code",
   "execution_count": 110,
   "metadata": {
    "colab": {
     "base_uri": "https://localhost:8080/"
    },
    "id": "qTLhF4Q7YjZd",
    "outputId": "a51f7d01-4b73-48d3-c578-fad5220169a1"
   },
   "outputs": [
    {
     "name": "stdout",
     "output_type": "stream",
     "text": [
      "0.623\n"
     ]
    }
   ],
   "source": [
    "n = 4000001\n",
    "error = 1/np.sqrt(float(n))\n",
    "count = 0 \n",
    "for i in range(n):\n",
    "  indices = list(range(len(target)))\n",
    "  indices = random.sample(indices, 40)\n",
    "\n",
    "  target40 = target[indices[:40]]\n",
    "  numofclass2 = len(target40[target40 == 2])\n",
    "  if numofclass2 in values:\n",
    "    count += 1 \n",
    "estimatenorep = round(count/n, 3)  \n",
    "print(estimate)"
   ]
  },
  {
   "cell_type": "markdown",
   "metadata": {
    "id": "1oOlMqorZVeD"
   },
   "source": [
    "**Problem #3**"
   ]
  },
  {
   "cell_type": "code",
   "execution_count": 6,
   "metadata": {
    "colab": {
     "base_uri": "https://localhost:8080/"
    },
    "id": "qvYyc8z_Zu9E",
    "outputId": "7fdf7c11-d9e3-43c9-8fef-9d354afd8758"
   },
   "outputs": [
    {
     "name": "stdout",
     "output_type": "stream",
     "text": [
      "3.5\n",
      "2.9166666666666665\n",
      "3.5\n",
      "1.25\n"
     ]
    }
   ],
   "source": [
    "# Example\n",
    "stuff = [1,2,3,4,5,6]\n",
    "print(np.mean(stuff))\n",
    "print(np.var(stuff))\n",
    "# Suppose there were 8 missing values in \"stuff\"\n",
    "stuffnew = [1,2,3,3.5,4,5,6,3.5,3.5,3.5,3.5,3.5,3.5,3.5]\n",
    "print(np.mean(stuffnew))\n",
    "print(np.var(stuffnew))\n",
    "\n",
    "# The mean is the same but the variance is much lower, perhaps by a factor of n-r/n!"
   ]
  },
  {
   "cell_type": "markdown",
   "metadata": {
    "id": "mhDtR6JtVacK"
   },
   "source": [
    "**Mean**\n",
    "\n",
    "\n",
    "\n",
    "Assuming r missing values with m = calculated mean without replacing the missing values: \n",
    "\n",
    "m = 1/(n-r) * (X_1 + ... + X_n-r)\n",
    "\n",
    "---\n",
    "m_r = 1/n * ((n-r)*m + rm) = 1/n * (m * (r + (n-r))) = 1/n * (mn) = m\n",
    "\n",
    "Here, we can see that replacing missing values with the mean of the non-missing values does not affect the mean of the total sample. \n",
    "\n",
    "---\n",
    "\n",
    "**Variance (Standard Deviation)**\n",
    "\n",
    "Var(X) = 1/(n-r) * [(X_1 - m)^2 + ... + (X_n-r - m)^2]\n",
    "\n",
    "Var(X_r) = 1/n * [(n-r)*Var(X)] + r*0 \n",
    "\n",
    "Note: r*0 term encapsulates how the replaced missing values will all have 0 variance from the mean. Given this, we can see how the replaced missing values will lower the variance by a factor of (n-r)/n. The standard deviation will, in turn, be reduced by the square root of this. \n",
    "\n",
    "\n",
    "\n"
   ]
  },
  {
   "cell_type": "markdown",
   "metadata": {
    "id": "GIgqpj1r_JLo"
   },
   "source": [
    "**Problem #4**"
   ]
  },
  {
   "cell_type": "markdown",
   "metadata": {
    "id": "E5Hhr2ow_LeE"
   },
   "source": [
    "**(a)**"
   ]
  },
  {
   "cell_type": "code",
   "execution_count": 12,
   "metadata": {
    "id": "PepCHjDp_N_a"
   },
   "outputs": [],
   "source": [
    "# X: number of class 2 instances in size-40 wine dataset \n",
    "def geomX2():\n",
    "  indices1 = list(range(len(target)))\n",
    "  indices1 = random.choices(indices1, k = 40)\n",
    "\n",
    "  randomtargets = target[indices1[:40]]\n",
    "  x = len(randomtargets[randomtargets == 2])\n",
    "  return x\n",
    "\n",
    "\n",
    "# Y: number of class 2 instances in size-40 wine dataset without replacement\n",
    "def geomY():\n",
    "  indices2 = list(range(len(target)))\n",
    "  random.shuffle(indices2)\n",
    "\n",
    "  randomtargets1 = target[indices2[:40]]\n",
    "  y = len(randomtargets1[randomtargets1 == 2])\n",
    "  return y"
   ]
  },
  {
   "cell_type": "markdown",
   "metadata": {
    "id": "3KNCwhM5B4jw"
   },
   "source": [
    "**(b)**"
   ]
  },
  {
   "cell_type": "code",
   "execution_count": 15,
   "metadata": {
    "colab": {
     "base_uri": "https://localhost:8080/"
    },
    "id": "kFupBXjZB5i4",
    "outputId": "1789b37c-703b-4d14-87a1-95f56f24c833"
   },
   "outputs": [
    {
     "data": {
      "text/plain": [
       "(1.99387, 1.407107822130202)"
      ]
     },
     "execution_count": 15,
     "metadata": {
      "tags": []
     },
     "output_type": "execute_result"
    }
   ],
   "source": [
    "# Monte Carlo Simulation \n",
    "\n",
    "# Example Random Variable \n",
    "def geomX():\n",
    "  X = 1\n",
    "  while random.randint(0,1) != 1:\n",
    "    X += 1\n",
    "  return X \n",
    "\n",
    "def MonteCarlo(func):\n",
    "  n = 10**5\n",
    "  yes = []\n",
    "  for i in range(n):\n",
    "    X = func()\n",
    "    yes.append(X)\n",
    "  ev = np.mean(yes) \n",
    "  stdX = np.std(yes) \n",
    "    \n",
    "  return ev, stdX\n",
    "\n",
    "# Test \n",
    "MonteCarlo(geomX)"
   ]
  },
  {
   "cell_type": "markdown",
   "metadata": {
    "id": "SgtW1WMxckkJ"
   },
   "source": [
    "**(c)**"
   ]
  },
  {
   "cell_type": "code",
   "execution_count": 28,
   "metadata": {
    "colab": {
     "base_uri": "https://localhost:8080/"
    },
    "id": "bYNXOpURclnI",
    "outputId": "0ab14588-9253-49ac-9686-2696300051ab"
   },
   "outputs": [
    {
     "name": "stdout",
     "output_type": "stream",
     "text": [
      "X Summary Stats \t         Y Summary Stats\n",
      "[(10.77122, 2.790963939501906)] [(10.78344, 2.4798713205325793)]\n",
      "[(10.77307, 2.803521495387542)] [(10.79265, 2.4738544778341347)]\n",
      "[(10.78601, 2.816103385868495)] [(10.78306, 2.483045919108223)]\n",
      "[(10.8, 2.806243040080456)] [(10.79422, 2.4838306286057428)]\n",
      "[(10.79883, 2.8118464807133408)] [(10.78378, 2.4843568406330037)]\n",
      "[(10.7884, 2.808402649194022)] [(10.78148, 2.4826375107131526)]\n",
      "[(10.79747, 2.8066477511615164)] [(10.78086, 2.468541605968998)]\n",
      "[(10.77969, 2.8048767359547195)] [(10.79603, 2.480718895622799)]\n",
      "[(10.78652, 2.8009116890041357)] [(10.77193, 2.480341523883354)]\n",
      "[(10.78403, 2.8032101168303454)] [(10.77999, 2.4796422322383527)]\n"
     ]
    }
   ],
   "source": [
    "print(\"X Summary Stats \\t         Y Summary Stats\")\n",
    "for i in range(10):\n",
    "  xval = []\n",
    "  yval = []\n",
    "  xStats = MonteCarlo(geomX2)\n",
    "  xval.append(xStats)\n",
    "  yStats = MonteCarlo(geomY)\n",
    "  yval.append(yStats)\n",
    "  print(xval, yval)\n",
    "#print(\"X Summary Stats: {}  Y Summary Stats: {}\".format(xStats, yStats))"
   ]
  },
  {
   "cell_type": "markdown",
   "metadata": {
    "id": "2-GDl1VjcXRu"
   },
   "source": [
    "The previous code is looped through 10 times to see if there is any significant difference between the expected values or standard deviations of the random variables X and Y described in part 4(a). From the output of the code, it looks as though there is no difference between the expected value of the variables, which makes sense because replacement or no replacement should not affect the average values of the variables. With regard to the standard deviations, the standard deviation of X is noticibly higher than Y by a factor of 1.13, with \n",
    "std(X) = 2.8 and std(Y) = 2.48. Sampling without replacement intuitively has a lower standard deviation because it is required that all observations are distinct, resulting in more variability in the sample. "
   ]
  }
 ],
 "metadata": {
  "colab": {
   "collapsed_sections": [],
   "name": "DS_Agema_Dylan_HW7.ipynb",
   "provenance": []
  },
  "kernelspec": {
   "display_name": "Python 3",
   "language": "python",
   "name": "python3"
  },
  "language_info": {
   "codemirror_mode": {
    "name": "ipython",
    "version": 3
   },
   "file_extension": ".py",
   "mimetype": "text/x-python",
   "name": "python",
   "nbconvert_exporter": "python",
   "pygments_lexer": "ipython3",
   "version": "3.8.5"
  }
 },
 "nbformat": 4,
 "nbformat_minor": 1
}
