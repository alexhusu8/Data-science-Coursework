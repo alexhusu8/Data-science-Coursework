{
 "cells": [
  {
   "cell_type": "code",
   "execution_count": 403,
   "metadata": {},
   "outputs": [],
   "source": [
    "import pandas as pd\n",
    "import numpy as np\n",
    "from statistics import *\n",
    "import seaborn as sns\n",
    "import sklearn as sk\n",
    "from sklearn.linear_model import SGDClassifier\n",
    "from sklearn.preprocessing import PolynomialFeatures\n",
    "from sklearn.model_selection import cross_val_score\n",
    "import matplotlib.pyplot as plt"
   ]
  },
  {
   "cell_type": "markdown",
   "metadata": {},
   "source": [
    "1.a"
   ]
  },
  {
   "cell_type": "code",
   "execution_count": 404,
   "metadata": {},
   "outputs": [],
   "source": [
    "df=pd.read_csv('blobData.txt', header=None)\n",
    "df.columns=['attribute1','attribute2','class']"
   ]
  },
  {
   "cell_type": "code",
   "execution_count": 405,
   "metadata": {},
   "outputs": [],
   "source": [
    "x=df[['attribute1','attribute2']]\n",
    "y=df['class']"
   ]
  },
  {
   "cell_type": "code",
   "execution_count": 406,
   "metadata": {},
   "outputs": [],
   "source": [
    "sgdc=SGDClassifier()"
   ]
  },
  {
   "cell_type": "code",
   "execution_count": 407,
   "metadata": {},
   "outputs": [
    {
     "data": {
      "text/plain": [
       "SGDClassifier()"
      ]
     },
     "execution_count": 407,
     "metadata": {},
     "output_type": "execute_result"
    }
   ],
   "source": [
    "sgdc.fit(x,y)"
   ]
  },
  {
   "cell_type": "code",
   "execution_count": 408,
   "metadata": {},
   "outputs": [
    {
     "data": {
      "text/plain": [
       "0.45"
      ]
     },
     "execution_count": 408,
     "metadata": {},
     "output_type": "execute_result"
    }
   ],
   "source": [
    "sgdc.score(x,y)"
   ]
  },
  {
   "cell_type": "markdown",
   "metadata": {},
   "source": [
    "1.b"
   ]
  },
  {
   "cell_type": "code",
   "execution_count": 295,
   "metadata": {},
   "outputs": [
    {
     "data": {
      "text/plain": [
       "0.97"
      ]
     },
     "execution_count": 295,
     "metadata": {},
     "output_type": "execute_result"
    }
   ],
   "source": [
    "Featureextraction=PolynomialFeatures(degree=2)\n",
    "x1=Featureextraction.fit_transform(x)\n",
    "x1=pd.DataFrame(x1)\n",
    "df2=pd.concat([x1,y],axis=1)\n",
    "xmodel1=df2[[0,1,2,3,4,5]]\n",
    "ymodel1=df2['class']\n",
    "sgdc=SGDClassifier()\n",
    "sgdc.fit(xmodel1,ymodel1)\n",
    "sgdc.score(xmodel1,ymodel1)"
   ]
  },
  {
   "cell_type": "markdown",
   "metadata": {},
   "source": [
    "2.a"
   ]
  },
  {
   "cell_type": "code",
   "execution_count": 296,
   "metadata": {},
   "outputs": [
    {
     "data": {
      "text/plain": [
       "0.4391025641025641"
      ]
     },
     "execution_count": 296,
     "metadata": {},
     "output_type": "execute_result"
    }
   ],
   "source": [
    "accur=cross_val_score(sgdc, x, y, cv=8)\n",
    "mean(accur)"
   ]
  },
  {
   "cell_type": "code",
   "execution_count": 297,
   "metadata": {},
   "outputs": [
    {
     "data": {
      "text/plain": [
       "0.9086538461538461"
      ]
     },
     "execution_count": 297,
     "metadata": {},
     "output_type": "execute_result"
    }
   ],
   "source": [
    "accur2=cross_val_score(sgdc, xmodel1, ymodel1, cv=8)\n",
    "mean(accur2)"
   ]
  },
  {
   "cell_type": "markdown",
   "metadata": {},
   "source": [
    "2.b"
   ]
  },
  {
   "cell_type": "code",
   "execution_count": 411,
   "metadata": {
    "scrolled": true
   },
   "outputs": [
    {
     "name": "stdout",
     "output_type": "stream",
     "text": [
      "0.9327692307692308\n",
      "0.8874254807692308\n",
      "0.7368838141025641\n"
     ]
    }
   ],
   "source": [
    "count1 = []\n",
    "count2 = []\n",
    "count3 = []\n",
    "deg = [2,4,6]\n",
    "\n",
    "for i in deg:\n",
    "    Featureextraction = PolynomialFeatures(degree = i)\n",
    "    x3 = Featureextraction.fit_transform(x)\n",
    "    x3 = pd.DataFrame(x3)\n",
    "    data3 = pd.concat([x3,y],axis=1)\n",
    "    sgdc = SGDClassifier()\n",
    "    sgdc.fit(x3,y)\n",
    "    for j in range(1000):\n",
    "        cross3 = cross_val_score(classifier3,x3,y,cv=8)\n",
    "        acc = mean(cross3)\n",
    "        if i == 2:\n",
    "            count1.append(acc)\n",
    "        if i == 4:\n",
    "            count2.append(acc)\n",
    "        if i == 6:\n",
    "            count3.append(acc)\n",
    "            \n",
    "print(mean(count1))\n",
    "print(mean(count2))\n",
    "print(mean(count3))\n",
    "\n",
    "\n"
   ]
  },
  {
   "cell_type": "markdown",
   "metadata": {},
   "source": [
    "3.a"
   ]
  },
  {
   "cell_type": "code",
   "execution_count": 304,
   "metadata": {},
   "outputs": [],
   "source": [
    "Featureextraction=PolynomialFeatures(degree=2)\n",
    "x1=Featureextraction.fit_transform(x)\n",
    "x1=pd.DataFrame(x1)\n",
    "df2=pd.concat([x1,y],axis=1)\n",
    "xmodel1=df2[[0,1,2,3,4,5]]\n",
    "ymodel1=df2['class']\n"
   ]
  },
  {
   "cell_type": "code",
   "execution_count": 305,
   "metadata": {},
   "outputs": [],
   "source": [
    "coef1=[]\n",
    "coef2=[]\n",
    "coef3=[]\n",
    "coef4=[]\n",
    "coef5=[]\n",
    "coef6=[]\n",
    "intercept=[]\n",
    "\n",
    "for i in range(1000):\n",
    "    sgdc=SGDClassifier()\n",
    "    sgdc.fit(xmodel1,ymodel1)\n",
    "    a=sgdc.coef_\n",
    "    b=sgdc.intercept_\n",
    "    coef1.append(a[0][0])\n",
    "    coef2.append(a[0][1])\n",
    "    coef3.append(a[0][2])\n",
    "    coef4.append(a[0][3])\n",
    "    coef5.append(a[0][4])\n",
    "    coef6.append(a[0][5])\n",
    "    intercept.append(float(b))\n"
   ]
  },
  {
   "cell_type": "code",
   "execution_count": 306,
   "metadata": {},
   "outputs": [
    {
     "name": "stdout",
     "output_type": "stream",
     "text": [
      "-120.979336870048 0.8937317115499812 -1.1212306155553253 64.97548605127517 3.8794575947780543 62.85778810003764 -271.1605882732916\n"
     ]
    }
   ],
   "source": [
    "print(mean(coef1),mean(coef2),mean(coef3),mean(coef4),mean(coef5),mean(coef6), mean(intercept))"
   ]
  },
  {
   "cell_type": "markdown",
   "metadata": {},
   "source": [
    "3.b"
   ]
  },
  {
   "cell_type": "code",
   "execution_count": 376,
   "metadata": {},
   "outputs": [],
   "source": [
    "#equation: -120.979+64.975x1^2+62.8577x2^2-271.16=0\n",
    "xb1=[]\n",
    "xb2=[]\n",
    "for i in np.arange(-2.4,2.5,.05):\n",
    "    prex=(392.1395-64.975*(i**2))/(62.857)\n",
    "    x2=np.sqrt(prex)\n",
    "    xb2.append(x2)\n",
    "    xb1.append(i)\n"
   ]
  },
  {
   "cell_type": "code",
   "execution_count": 412,
   "metadata": {},
   "outputs": [
    {
     "data": {
      "text/plain": [
       "-392.139"
      ]
     },
     "execution_count": 412,
     "metadata": {},
     "output_type": "execute_result"
    }
   ],
   "source": [
    "-120.979-271.16"
   ]
  },
  {
   "cell_type": "code",
   "execution_count": 377,
   "metadata": {},
   "outputs": [
    {
     "data": {
      "image/png": "[encoded data removed]",
      "text/plain": [
       "<Figure size 432x288 with 1 Axes>"
      ]
     },
     "metadata": {
      "needs_background": "light"
     },
     "output_type": "display_data"
    }
   ],
   "source": [
    "one=plt.scatter(xb1,xb2,color='k')"
   ]
  },
  {
   "cell_type": "code",
   "execution_count": 378,
   "metadata": {
    "scrolled": false
   },
   "outputs": [
    {
     "data": {
      "image/png": "[encoded data removed]",
      "text/plain": [
       "<Figure size 432x288 with 1 Axes>"
      ]
     },
     "metadata": {
      "needs_background": "light"
     },
     "output_type": "display_data"
    }
   ],
   "source": [
    "two=plt.scatter(df['attribute1'],df['attribute2'],color='g')"
   ]
  },
  {
   "cell_type": "code",
   "execution_count": 390,
   "metadata": {
    "scrolled": true
   },
   "outputs": [
    {
     "data": {
      "text/plain": [
       "<AxesSubplot:xlabel='attribute1', ylabel='attribute2'>"
      ]
     },
     "execution_count": 390,
     "metadata": {},
     "output_type": "execute_result"
    },
    {
     "data": {
      "image/png": "[encoded data removed]",
      "text/plain": [
       "<Figure size 432x288 with 1 Axes>"
      ]
     },
     "metadata": {
      "needs_background": "light"
     },
     "output_type": "display_data"
    }
   ],
   "source": [
    "sns.scatterplot(data=df,x='attribute1',y='attribute2')"
   ]
  },
  {
   "cell_type": "code",
   "execution_count": 391,
   "metadata": {},
   "outputs": [
    {
     "data": {
      "text/plain": [
       "<AxesSubplot:>"
      ]
     },
     "execution_count": 391,
     "metadata": {},
     "output_type": "execute_result"
    },
    {
     "data": {
      "image/png": "[encoded data removed]",
      "text/plain": [
       "<Figure size 432x288 with 1 Axes>"
      ]
     },
     "metadata": {
      "needs_background": "light"
     },
     "output_type": "display_data"
    }
   ],
   "source": [
    "sns.scatterplot(x=xb1,y=xb2)"
   ]
  },
  {
   "cell_type": "markdown",
   "metadata": {},
   "source": [
    "4.a"
   ]
  },
  {
   "cell_type": "code",
   "execution_count": 307,
   "metadata": {},
   "outputs": [],
   "source": [
    "n=1000\n",
    "counter=0\n",
    "for i in range(1000):\n",
    "    special=[0,1,2,3,4]\n",
    "    d= np.arange(100)\n",
    "    np.random.shuffle(d)\n",
    "    training=d[0:75]\n",
    "    test=d[75:]\n",
    "    if all(item in training for item in special):\n",
    "        counter+=1"
   ]
  },
  {
   "cell_type": "code",
   "execution_count": 308,
   "metadata": {},
   "outputs": [
    {
     "data": {
      "text/plain": [
       "0.237"
      ]
     },
     "execution_count": 308,
     "metadata": {},
     "output_type": "execute_result"
    }
   ],
   "source": [
    "percent=round(counter/n,3)\n",
    "percent"
   ]
  },
  {
   "cell_type": "markdown",
   "metadata": {},
   "source": [
    "4.b"
   ]
  },
  {
   "cell_type": "code",
   "execution_count": 309,
   "metadata": {},
   "outputs": [
    {
     "name": "stdout",
     "output_type": "stream",
     "text": [
      "0.032\n",
      "0.269\n",
      "0.205\n"
     ]
    }
   ],
   "source": [
    "error=round(1/np.sqrt(n),3)\n",
    "upperconf=round(percent+error,3)\n",
    "lowerconf=round(percent-error,3)\n",
    "print(error)\n",
    "print(upperconf)\n",
    "print(lowerconf)"
   ]
  },
  {
   "cell_type": "markdown",
   "metadata": {},
   "source": [
    "The smallest possible error is 0. From below, we can see that the error term quickly decreases as the number of runs increases. Thus, as the number of runs increases towards infinity, the error term will eventually reach close to 0."
   ]
  },
  {
   "cell_type": "code",
   "execution_count": 310,
   "metadata": {},
   "outputs": [
    {
     "data": {
      "text/plain": [
       "[<matplotlib.lines.Line2D at 0x7f8887e74520>]"
      ]
     },
     "execution_count": 310,
     "metadata": {},
     "output_type": "execute_result"
    },
    {
     "data": {
      "image/png": "[encoded data removed]",
      "text/plain": [
       "<Figure size 432x288 with 1 Axes>"
      ]
     },
     "metadata": {
      "needs_background": "light"
     },
     "output_type": "display_data"
    }
   ],
   "source": [
    "yexample=[]\n",
    "xexample=[]\n",
    "for i in range(1,10000):\n",
    "    yexample.append(1/np.sqrt(i))\n",
    "    xexample.append(i)\n",
    "\n",
    "plt.plot(xexample,yexample)\n"
   ]
  },
  {
   "cell_type": "markdown",
   "metadata": {},
   "source": [
    "4.c"
   ]
  },
  {
   "cell_type": "code",
   "execution_count": 311,
   "metadata": {},
   "outputs": [
    {
     "name": "stdout",
     "output_type": "stream",
     "text": [
      "4000000\n"
     ]
    }
   ],
   "source": [
    "count4c=1 #so it is inclusive of final run\n",
    "for i in range(1,10000000):\n",
    "    error=round(1/np.sqrt(i),3)\n",
    "    if error!=0:\n",
    "        count4c+=1\n",
    "    if error==0:\n",
    "        break\n",
    "\n",
    "print(count4c)"
   ]
  },
  {
   "cell_type": "code",
   "execution_count": 312,
   "metadata": {},
   "outputs": [],
   "source": [
    "n2=count4c\n",
    "counter2=0\n",
    "for i in range(n2):\n",
    "    special=[0,1,2,3,4]\n",
    "    d= np.arange(100)\n",
    "    np.random.shuffle(d)\n",
    "    training=d[0:75]\n",
    "    test=d[75:]\n",
    "    if all(item in training for item in special):\n",
    "        counter2+=1"
   ]
  },
  {
   "cell_type": "code",
   "execution_count": 313,
   "metadata": {},
   "outputs": [
    {
     "data": {
      "text/plain": [
       "0.229"
      ]
     },
     "execution_count": 313,
     "metadata": {},
     "output_type": "execute_result"
    }
   ],
   "source": [
    "percent2=round(counter2/n2,3)\n",
    "percent2"
   ]
  },
  {
   "cell_type": "code",
   "execution_count": 314,
   "metadata": {},
   "outputs": [
    {
     "name": "stdout",
     "output_type": "stream",
     "text": [
      "0.0\n",
      "0.229\n",
      "0.229\n"
     ]
    }
   ],
   "source": [
    "error2=round(1/np.sqrt(n2),3)\n",
    "upperconf2=round(percent2+error2,3)\n",
    "lowerconf2=round(percent2-error2,3)\n",
    "print(error2)\n",
    "print(upperconf2)\n",
    "print(lowerconf2)"
   ]
  }
 ],
 "metadata": {
  "kernelspec": {
   "display_name": "Python 3",
   "language": "python",
   "name": "python3"
  },
  "language_info": {
   "codemirror_mode": {
    "name": "ipython",
    "version": 3
   },
   "file_extension": ".py",
   "mimetype": "text/x-python",
   "name": "python",
   "nbconvert_exporter": "python",
   "pygments_lexer": "ipython3",
   "version": "3.8.5"
  }
 },
 "nbformat": 4,
 "nbformat_minor": 4
}
